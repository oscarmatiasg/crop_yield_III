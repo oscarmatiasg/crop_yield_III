{
 "cells": [
  {
   "cell_type": "code",
   "execution_count": 9,
   "metadata": {},
   "outputs": [
    {
     "name": "stdout",
     "output_type": "stream",
     "text": [
      "            count       mean        std  min  25%        50%        75%  \\\n",
      "Crop_Type                                                                 \n",
      "Barley     3652.0  25.552846  24.310633  0.0  0.0  22.653425  44.272976   \n",
      "Corn       3652.0  28.330560  26.753045  0.0  0.0  25.304568  49.476293   \n",
      "Cotton     3652.0  29.208710  27.366318  0.0  0.0  26.077860  50.592868   \n",
      "Potato     3652.0  26.213347  24.300037  0.0  0.0  24.653200  44.687878   \n",
      "Rice       3652.0  28.688229  28.342506  0.0  0.0  23.332898  50.125797   \n",
      "Soybean    3652.0  25.932047  23.841268  0.0  0.0  24.595953  43.829483   \n",
      "Sugarcane  3652.0  28.694864  28.172351  0.0  0.0  23.291216  49.893643   \n",
      "Sunflower  3652.0  27.498513  26.038454  0.0  0.0  24.421066  47.720619   \n",
      "Tomato     3652.0  22.794184  22.445509  0.0  0.0  18.246919  39.870070   \n",
      "Wheat      3652.0  25.871497  24.473798  0.0  0.0  22.518786  44.479008   \n",
      "\n",
      "                  max  \n",
      "Crop_Type              \n",
      "Barley     107.789684  \n",
      "Corn       114.358221  \n",
      "Cotton     114.863132  \n",
      "Potato     102.600074  \n",
      "Rice       124.960309  \n",
      "Soybean    106.095592  \n",
      "Sugarcane  136.711982  \n",
      "Sunflower  111.536965  \n",
      "Tomato      96.454896  \n",
      "Wheat      107.765850  \n",
      "         Date Crop_Type Soil_Type  Soil_pH  Temperature   Humidity  \\\n",
      "0  2014-01-01     Wheat     Peaty     5.50     9.440599  80.000000   \n",
      "1  2014-01-01      Corn     Loamy     6.50    20.052576  79.947424   \n",
      "2  2014-01-01      Rice     Peaty     5.50    12.143099  80.000000   \n",
      "3  2014-01-01    Barley     Sandy     6.75    19.751848  80.000000   \n",
      "4  2014-01-01   Soybean     Peaty     5.50    16.110395  80.000000   \n",
      "\n",
      "   Wind_Speed     N     P     K  Crop_Yield  Soil_Quality  \\\n",
      "0   10.956707  60.5  45.0  31.5    0.000000     22.833333   \n",
      "1    8.591577  84.0  66.0  50.0  104.871310     66.666667   \n",
      "2    7.227751  71.5  54.0  38.5    0.000000     27.333333   \n",
      "3    2.682683  50.0  40.0  30.0   58.939796     35.000000   \n",
      "4    7.696070  49.5  45.0  38.5   32.970413     22.166667   \n",
      "\n",
      "   Rendimiento_Normalizado Categoria_Rendimiento  \n",
      "0                 0.000000                   NaN  \n",
      "1                 0.767097                   NaN  \n",
      "2                 0.000000                   NaN  \n",
      "3                 0.431124                  Alto  \n",
      "4                 0.241167                 Medio  \n"
     ]
    }
   ],
   "source": [
    "# Importar bibliotecas necesarias\n",
    "import pandas as pd\n",
    "\n",
    "# Cargar datos\n",
    "df = pd.read_csv('crop_yield_dataset.csv')\n",
    "\n",
    "# Transformación de datos\n",
    "df['Rendimiento_Normalizado'] = df['Crop_Yield'] / df['Crop_Yield'].max()\n",
    "\n",
    "# Clasificar datos\n",
    "df['Categoria_Rendimiento'] = pd.cut(df['Crop_Yield'], bins=[0, 20, 40, 60, 80, 100], labels=['Bajo', 'Medio', 'Alto', 'Muy Alto', 'Excelente'])\n",
    "\n",
    "# Análisis descriptivo\n",
    "df_grupo_tipo_suelo_describe = df.groupby('Crop_Type')['Crop_Yield'].describe()\n",
    "\n",
    "# Visualización de resultados\n",
    "print(df_grupo_tipo_suelo_describe)\n",
    "print(df.head())"
   ]
  }
 ],
 "metadata": {
  "kernelspec": {
   "display_name": "Python 3",
   "language": "python",
   "name": "python3"
  },
  "language_info": {
   "codemirror_mode": {
    "name": "ipython",
    "version": 3
   },
   "file_extension": ".py",
   "mimetype": "text/x-python",
   "name": "python",
   "nbconvert_exporter": "python",
   "pygments_lexer": "ipython3",
   "version": "3.12.2"
  }
 },
 "nbformat": 4,
 "nbformat_minor": 2
}
